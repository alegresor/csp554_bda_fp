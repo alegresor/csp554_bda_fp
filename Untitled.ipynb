{
 "cells": [
  {
   "cell_type": "code",
   "execution_count": null,
   "metadata": {},
   "outputs": [],
   "source": [
    "import numpy as np\n",
    "import pandas as pd \n",
    "import seaborn as sns \n",
    "sns.set(style='whitegrid')\n",
    "\n",
    "def multiple_bar_plot(df,dataset):\n",
    "    df = pd.melt(df,id_vars='model',var_name='metric')\n",
    "    plt = sns.catplot(x='metric',y='value',hue='model',data=df,kind='bar')\n",
    "    plt.set(title='Model Metrics for %s Dataset'%dataset,ylabel='metric',xlabel='')\n",
    "    plt.despine(left=True)\n",
    "    plt.set_xticklabels(rotation=45)\n",
    "    plt.savefig('out/bar_chart_metrics/%s.png'%dataset.lower())"
   ]
  },
  {
   "cell_type": "code",
   "execution_count": 7,
   "metadata": {},
   "outputs": [
    {
     "data": {
      "text/plain": [
       "'C:\\\\Users\\\\Sunny\\\\Github\\\\CSP554\\\\csp554_bdt_fp'"
      ]
     },
     "execution_count": 7,
     "metadata": {},
     "output_type": "execute_result"
    }
   ],
   "source": [
    "os.getcwd()"
   ]
  },
  {
   "cell_type": "code",
   "execution_count": null,
   "metadata": {},
   "outputs": [],
   "source": [
    "datasets = ['Auto','Housing','Wine','Iris','Telco','Turtles']\n",
    "for dataset in datasets:\n",
    "    name = dataset.lower()\n",
    "    df = pd.read_csv('data/%s/%s_model_metrics.csv'%(name,name))\n",
    "    multiple_bar_plot(df,dataset)"
   ]
  },
  {
   "cell_type": "code",
   "execution_count": 21,
   "metadata": {},
   "outputs": [],
   "source": [
    "df1 = pd.read_csv('data/auto/iris_model_metrics.csv')\n",
    "df2 = pd.read_csv('Python Implementation/iris_metric.csv')\n",
    "df3 = pd.read_csv('R Implementation/auto_metric.csv')"
   ]
  },
  {
   "cell_type": "code",
   "execution_count": 22,
   "metadata": {},
   "outputs": [],
   "source": [
    "df1['Implementation'] = 'Spark MLlib'\n",
    "df2['Implementation'] = 'Python Scikit-learn'\n",
    "df3['Implementation'] = 'R Caret'"
   ]
  },
  {
   "cell_type": "code",
   "execution_count": 26,
   "metadata": {},
   "outputs": [
    {
     "data": {
      "text/html": [
       "<div>\n",
       "<style scoped>\n",
       "    .dataframe tbody tr th:only-of-type {\n",
       "        vertical-align: middle;\n",
       "    }\n",
       "\n",
       "    .dataframe tbody tr th {\n",
       "        vertical-align: top;\n",
       "    }\n",
       "\n",
       "    .dataframe thead th {\n",
       "        text-align: right;\n",
       "    }\n",
       "</style>\n",
       "<table border=\"1\" class=\"dataframe\">\n",
       "  <thead>\n",
       "    <tr style=\"text-align: right;\">\n",
       "      <th></th>\n",
       "      <th>Unnamed: 0</th>\n",
       "      <th>model</th>\n",
       "      <th>r2</th>\n",
       "      <th>rmse</th>\n",
       "      <th>mae</th>\n",
       "      <th>Implementation</th>\n",
       "    </tr>\n",
       "  </thead>\n",
       "  <tbody>\n",
       "    <tr>\n",
       "      <th>0</th>\n",
       "      <td>1</td>\n",
       "      <td>Linear Regression</td>\n",
       "      <td>0.867524</td>\n",
       "      <td>2.764805</td>\n",
       "      <td>2.023682</td>\n",
       "      <td>R Caret</td>\n",
       "    </tr>\n",
       "    <tr>\n",
       "      <th>1</th>\n",
       "      <td>2</td>\n",
       "      <td>Decision Tree</td>\n",
       "      <td>0.647037</td>\n",
       "      <td>4.547897</td>\n",
       "      <td>3.127949</td>\n",
       "      <td>R Caret</td>\n",
       "    </tr>\n",
       "    <tr>\n",
       "      <th>2</th>\n",
       "      <td>3</td>\n",
       "      <td>Random Forest</td>\n",
       "      <td>0.770143</td>\n",
       "      <td>3.671609</td>\n",
       "      <td>2.510195</td>\n",
       "      <td>R Caret</td>\n",
       "    </tr>\n",
       "    <tr>\n",
       "      <th>3</th>\n",
       "      <td>4</td>\n",
       "      <td>Gradient Boosted Trees</td>\n",
       "      <td>0.839251</td>\n",
       "      <td>3.071033</td>\n",
       "      <td>2.102680</td>\n",
       "      <td>R Caret</td>\n",
       "    </tr>\n",
       "  </tbody>\n",
       "</table>\n",
       "</div>"
      ],
      "text/plain": [
       "   Unnamed: 0                   model        r2      rmse       mae  \\\n",
       "0           1       Linear Regression  0.867524  2.764805  2.023682   \n",
       "1           2           Decision Tree  0.647037  4.547897  3.127949   \n",
       "2           3           Random Forest  0.770143  3.671609  2.510195   \n",
       "3           4  Gradient Boosted Trees  0.839251  3.071033  2.102680   \n",
       "\n",
       "  Implementation  \n",
       "0        R Caret  \n",
       "1        R Caret  \n",
       "2        R Caret  \n",
       "3        R Caret  "
      ]
     },
     "execution_count": 26,
     "metadata": {},
     "output_type": "execute_result"
    }
   ],
   "source": [
    "df3"
   ]
  },
  {
   "cell_type": "code",
   "execution_count": 27,
   "metadata": {},
   "outputs": [
    {
     "ename": "ModuleNotFoundError",
     "evalue": "No module named 'pyspark'",
     "output_type": "error",
     "traceback": [
      "\u001b[1;31m---------------------------------------------------------------------------\u001b[0m",
      "\u001b[1;31mModuleNotFoundError\u001b[0m                       Traceback (most recent call last)",
      "\u001b[1;32m<ipython-input-27-6fe80ba59be9>\u001b[0m in \u001b[0;36m<module>\u001b[1;34m()\u001b[0m\n\u001b[1;32m----> 1\u001b[1;33m \u001b[1;32mfrom\u001b[0m \u001b[0mpyspark\u001b[0m\u001b[1;33m.\u001b[0m\u001b[0msql\u001b[0m \u001b[1;32mimport\u001b[0m \u001b[0mSparkSession\u001b[0m\u001b[1;33m\u001b[0m\u001b[0m\n\u001b[0m\u001b[0;32m      2\u001b[0m \u001b[1;32mfrom\u001b[0m \u001b[0mpyspark\u001b[0m\u001b[1;33m.\u001b[0m\u001b[0msql\u001b[0m\u001b[1;33m.\u001b[0m\u001b[0mtypes\u001b[0m \u001b[1;32mimport\u001b[0m \u001b[1;33m*\u001b[0m\u001b[1;33m\u001b[0m\u001b[0m\n\u001b[0;32m      3\u001b[0m \u001b[1;32mfrom\u001b[0m \u001b[0mspark_pkg\u001b[0m\u001b[1;33m.\u001b[0m\u001b[0mutil\u001b[0m\u001b[1;33m.\u001b[0m\u001b[0mmllib\u001b[0m \u001b[1;32mimport\u001b[0m \u001b[0mencode_data\u001b[0m\u001b[1;33m,\u001b[0m \u001b[0mrun_classification_models\u001b[0m\u001b[1;33m\u001b[0m\u001b[0m\n\u001b[0;32m      4\u001b[0m \u001b[1;33m\u001b[0m\u001b[0m\n\u001b[0;32m      5\u001b[0m \u001b[1;31m# setup\u001b[0m\u001b[1;33m\u001b[0m\u001b[1;33m\u001b[0m\u001b[0m\n",
      "\u001b[1;31mModuleNotFoundError\u001b[0m: No module named 'pyspark'"
     ]
    }
   ],
   "source": [
    "from pyspark.sql import SparkSession\n",
    "from pyspark.sql.types import *\n",
    "from spark_pkg.util.mllib import encode_data, run_classification_models\n",
    "\n",
    "# setup\n",
    "spark = SparkSession.builder.master(\"local\").appName('mllib_turtles').getOrCreate()\n",
    "spark.sparkContext.setLogLevel('ERROR')\n",
    "\n",
    "# read data\n",
    "struct = StructType([    \n",
    "    StructField('Species', StringType(), True),\n",
    "    StructField('Dead_Alive', StringType(), True),\n",
    "    StructField('Gear', StringType(), True),\n",
    "    StructField('SCL_notch', FloatType(), True),    \n",
    "    StructField('SCL_tip', FloatType(), True),    \n",
    "    StructField('SCW', FloatType(), True),    \n",
    "    StructField('CCL_notch', FloatType(), True),    \n",
    "    StructField('TestLevel_Before', FloatType(), True),    \n",
    "    StructField('Entangled', StringType(), True)])\n",
    "df = spark.read.schema(struct).csv('data/turtles/turtles_clean_spark_sql.csv',header=False)\n",
    "df.printSchema()\n",
    "df.show(5)\n",
    "\n",
    "# one hot encoding\n",
    "df = encode_data(df,\n",
    "        categorical_cols = [col for col,dtype in df.dtypes if dtype=='string' and col!='Species'],\n",
    "        numeric_cols = [col for col,dtype in df.dtypes if dtype=='float'],\n",
    "        predict_col = 'Species',\n",
    "        encode_predict_col = True)\n",
    "\n",
    "# split into train and test datsets\n",
    "\n",
    "\n",
    "# modeling"
   ]
  },
  {
   "cell_type": "code",
   "execution_count": null,
   "metadata": {},
   "outputs": [],
   "source": []
  }
 ],
 "metadata": {
  "kernelspec": {
   "display_name": "Python 3",
   "language": "python",
   "name": "python3"
  },
  "language_info": {
   "codemirror_mode": {
    "name": "ipython",
    "version": 3
   },
   "file_extension": ".py",
   "mimetype": "text/x-python",
   "name": "python",
   "nbconvert_exporter": "python",
   "pygments_lexer": "ipython3",
   "version": "3.6.5"
  }
 },
 "nbformat": 4,
 "nbformat_minor": 2
}
