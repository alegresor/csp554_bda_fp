{
 "cells": [
  {
   "cell_type": "code",
   "execution_count": 2,
   "metadata": {},
   "outputs": [
    {
     "data": {
      "text/plain": [
       "'C:\\\\spark-2.4.5-bin-hadoop2.7'"
      ]
     },
     "execution_count": 2,
     "metadata": {},
     "output_type": "execute_result"
    }
   ],
   "source": [
    "import findspark\n",
    "import pyspark"
   ]
  },
  {
   "cell_type": "code",
   "execution_count": 3,
   "metadata": {},
   "outputs": [
    {
     "name": "stdout",
     "output_type": "stream",
     "text": [
      "root\n",
      " |-- sepal_length: float (nullable = true)\n",
      " |-- sepal_width: float (nullable = true)\n",
      " |-- petal_length: float (nullable = true)\n",
      " |-- petal_width: float (nullable = true)\n",
      " |-- species: string (nullable = true)\n",
      "\n",
      "+------------+-----------+------------+-----------+-------+\n",
      "|sepal_length|sepal_width|petal_length|petal_width|species|\n",
      "+------------+-----------+------------+-----------+-------+\n",
      "|         5.1|        3.5|         1.4|        0.2| setosa|\n",
      "|         4.9|        3.0|         1.4|        0.2| setosa|\n",
      "|         4.7|        3.2|         1.3|        0.2| setosa|\n",
      "|         4.6|        3.1|         1.5|        0.2| setosa|\n",
      "|         5.0|        3.6|         1.4|        0.2| setosa|\n",
      "+------------+-----------+------------+-----------+-------+\n",
      "only showing top 5 rows\n",
      "\n",
      "+------------+-----------+------------+-----------+-------+--------------------+\n",
      "|sepal_length|sepal_width|petal_length|petal_width|species|   features_unscaled|\n",
      "+------------+-----------+------------+-----------+-------+--------------------+\n",
      "|         5.1|        3.5|         1.4|        0.2| setosa|[5.09999990463256...|\n",
      "|         4.9|        3.0|         1.4|        0.2| setosa|[4.90000009536743...|\n",
      "|         4.7|        3.2|         1.3|        0.2| setosa|[4.69999980926513...|\n",
      "|         4.6|        3.1|         1.5|        0.2| setosa|[4.59999990463256...|\n",
      "|         5.0|        3.6|         1.4|        0.2| setosa|[5.0,3.5999999046...|\n",
      "+------------+-----------+------------+-----------+-------+--------------------+\n",
      "only showing top 5 rows\n",
      "\n"
     ]
    }
   ],
   "source": [
    "from pyspark.sql import SparkSession, SQLContext, Window\n",
    "from pyspark.sql.types import *\n",
    "import pyspark.sql.functions as f\n",
    "\n",
    "# setup\n",
    "spark = SparkSession.builder.master(\"local\").appName(\"iris\").getOrCreate()\n",
    "\n",
    "import pandas as pd\n",
    "from numpy import array\n",
    "from math import sqrt\n",
    "from pyspark.ml.clustering import KMeans\n",
    "from pyspark.ml.evaluation import ClusteringEvaluator\n",
    "from pyspark.ml.feature import VectorAssembler\n",
    "\n",
    "# Load and parse the data\n",
    "struct = StructType([\n",
    "    StructField('sepal_length', FloatType(), True),\n",
    "    StructField('sepal_width', FloatType(), True),\n",
    "    StructField('petal_length', FloatType(), True),\n",
    "    StructField('petal_width', FloatType(), True),\n",
    "    StructField('species', StringType(), True)])\n",
    "df = spark.read.schema(struct).csv('C:/csp554_bdt_fp-master/data/iris/iris.csv',header=False)\n",
    "df.printSchema()\n",
    "df.show(5)\n",
    "\n",
    "# Create a vector column composed of all the features\n",
    "feature_cols = ['sepal_length', 'sepal_width', 'petal_length', 'petal_width']\n",
    "\n",
    "other_cols = ['species']\n",
    "\n",
    "assembler = VectorAssembler(inputCols=feature_cols, outputCol='features_unscaled')\n",
    "features_df = assembler.transform(df)\n",
    "\n",
    "features_df.show(5)\n"
   ]
  },
  {
   "cell_type": "markdown",
   "metadata": {},
   "source": [
    "# Correlation Matrix"
   ]
  },
  {
   "cell_type": "code",
   "execution_count": 4,
   "metadata": {},
   "outputs": [
    {
     "data": {
      "text/html": [
       "<div>\n",
       "<style scoped>\n",
       "    .dataframe tbody tr th:only-of-type {\n",
       "        vertical-align: middle;\n",
       "    }\n",
       "\n",
       "    .dataframe tbody tr th {\n",
       "        vertical-align: top;\n",
       "    }\n",
       "\n",
       "    .dataframe thead th {\n",
       "        text-align: right;\n",
       "    }\n",
       "</style>\n",
       "<table border=\"1\" class=\"dataframe\">\n",
       "  <thead>\n",
       "    <tr style=\"text-align: right;\">\n",
       "      <th></th>\n",
       "      <th>sepal_length</th>\n",
       "      <th>sepal_width</th>\n",
       "      <th>petal_length</th>\n",
       "      <th>petal_width</th>\n",
       "    </tr>\n",
       "  </thead>\n",
       "  <tbody>\n",
       "    <tr>\n",
       "      <th>sepal_length</th>\n",
       "      <td>1.000000</td>\n",
       "      <td>-0.109369</td>\n",
       "      <td>0.871754</td>\n",
       "      <td>0.817954</td>\n",
       "    </tr>\n",
       "    <tr>\n",
       "      <th>sepal_width</th>\n",
       "      <td>-0.109369</td>\n",
       "      <td>1.000000</td>\n",
       "      <td>-0.420516</td>\n",
       "      <td>-0.356544</td>\n",
       "    </tr>\n",
       "    <tr>\n",
       "      <th>petal_length</th>\n",
       "      <td>0.871754</td>\n",
       "      <td>-0.420516</td>\n",
       "      <td>1.000000</td>\n",
       "      <td>0.962757</td>\n",
       "    </tr>\n",
       "    <tr>\n",
       "      <th>petal_width</th>\n",
       "      <td>0.817954</td>\n",
       "      <td>-0.356544</td>\n",
       "      <td>0.962757</td>\n",
       "      <td>1.000000</td>\n",
       "    </tr>\n",
       "  </tbody>\n",
       "</table>\n",
       "</div>"
      ],
      "text/plain": [
       "              sepal_length  sepal_width  petal_length  petal_width\n",
       "sepal_length      1.000000    -0.109369      0.871754     0.817954\n",
       "sepal_width      -0.109369     1.000000     -0.420516    -0.356544\n",
       "petal_length      0.871754    -0.420516      1.000000     0.962757\n",
       "petal_width       0.817954    -0.356544      0.962757     1.000000"
      ]
     },
     "execution_count": 4,
     "metadata": {},
     "output_type": "execute_result"
    }
   ],
   "source": [
    "from pyspark.ml.stat import Correlation\n",
    "# Get correlation DataFrame, collect and extract a pyspark.mllib.linalg.DenseMatrix, convert to array \n",
    "corr_mat = Correlation.corr(features_df, 'features_unscaled').collect()[0][0].toArray()\n",
    "\n",
    "# Create Pandas DataFrame from correlation matrix\n",
    "corr_mat = pd.DataFrame(corr_mat, index=feature_cols, columns=feature_cols)\n",
    "corr_mat.head(len(feature_cols))"
   ]
  },
  {
   "cell_type": "code",
   "execution_count": 5,
   "metadata": {},
   "outputs": [],
   "source": [
    "from itertools import cycle, islice\n",
    "from math import sqrt\n",
    "from numpy import array\n",
    "from pandas.plotting import parallel_coordinates\n",
    "from pyspark.ml.clustering import KMeans as KM\n",
    "from pyspark.mllib.linalg import DenseVector\n",
    "import matplotlib.pyplot as plt\n",
    "import matplotlib\n",
    "import numpy as np\n",
    "import pandas as pd\n",
    "\n",
    "def computeCost(featuresAndPrediction, model):\n",
    "    allClusterCenters = [DenseVector(c) for c in model.clusterCenters()]\n",
    "    arrayCollection   = featuresAndPrediction.rdd.map(array)\n",
    "\n",
    "    def error(point, predictedCluster):\n",
    "        center = allClusterCenters[predictedCluster]\n",
    "        z      = point - center\n",
    "        return sqrt((z*z).sum())\n",
    "    \n",
    "    return arrayCollection.map(lambda row: error(row[0], row[1])).reduce(lambda x, y: x + y)\n",
    "\n",
    "\n",
    "def elbow(elbowset, clusters):\n",
    "    wsseList = []\t\n",
    "    for k in clusters:\n",
    "        print(\"Training for cluster size {} \".format(k))\n",
    "        kmeans = KM(k = k, seed = 1)\n",
    "        model = kmeans.fit(elbowset)\n",
    "        transformed = model.transform(elbowset)\n",
    "        featuresAndPrediction = transformed.select(\"features\", \"prediction\")\n",
    "\n",
    "        W = computeCost(featuresAndPrediction, model)\n",
    "        print(\"......................WSSE = {} \".format(W))\n",
    "\n",
    "        wsseList.append(W)\n",
    "    return wsseList\n",
    "\n",
    "def elbow_plot(wsseList, clusters):\n",
    "    wsseDF = pd.DataFrame({'WSSE' : wsseList, 'k' : clusters })\n",
    "    wsseDF.plot(y='WSSE', x='k', figsize=(15,10), grid=True, marker='o')\n",
    "\n",
    "def pd_centers(featuresUsed, centers):\n",
    "    colNames = list(featuresUsed)\n",
    "    colNames.append('prediction')\n",
    "\n",
    "    # Zip with a column called 'prediction' (index)\n",
    "    Z = [np.append(A, index) for index, A in enumerate(centers)]\n",
    "\n",
    "    # Convert to pandas for plotting\n",
    "    P = pd.DataFrame(Z, columns=colNames)\n",
    "    P['prediction'] = P['prediction'].astype(int)\n",
    "    return P\n",
    "\n",
    "def parallel_plot(data, P, ylim=[-3,+3], figsize=(15,8), colors=None):\n",
    "    \n",
    "    my_colors = colors\n",
    "    if my_colors is None:\n",
    "        my_colors = list(islice(cycle(['b', 'r', 'g', 'y', 'c', 'k', 'm']), None, len(P)))\n",
    "        \n",
    "    plt.figure(figsize=figsize).gca().axes.set_ylim(ylim)\n",
    "    parallel_coordinates(data, 'prediction', color = my_colors, marker='o')\n",
    "    # return my_colors\n",
    "    \n",
    "def heatmap(data, row_labels, col_labels, ax=None,\n",
    "            cbar_kw={}, cbarlabel=\"\", **kwargs):\n",
    "    \"\"\"\n",
    "    Create a heatmap from a numpy array and two lists of labels.\n",
    "    Arguments:\n",
    "        data       : A 2D numpy array of shape (N,M)\n",
    "        row_labels : A list or array of length N with the labels\n",
    "                     for the rows\n",
    "        col_labels : A list or array of length M with the labels\n",
    "                     for the columns\n",
    "    Optional arguments:\n",
    "        ax         : A matplotlib.axes.Axes instance to which the heatmap\n",
    "                     is plotted. If not provided, use current axes or\n",
    "                     create a new one.\n",
    "        cbar_kw    : A dictionary with arguments to\n",
    "                     :meth:`matplotlib.Figure.colorbar`.\n",
    "        cbarlabel  : The label for the colorbar\n",
    "\n",
    "    \"\"\"\n",
    "\n",
    "    if not ax:\n",
    "        ax = plt.gca()\n",
    "\n",
    "    # Plot the heatmap\n",
    "    im = ax.imshow(data, **kwargs)\n",
    "\n",
    "    # Create colorbar\n",
    "    cbar = ax.figure.colorbar(im, ax=ax, **cbar_kw)\n",
    "    cbar.ax.set_ylabel(cbarlabel, rotation=-90, va=\"bottom\")\n",
    "\n",
    "    # We want to show all ticks...\n",
    "    ax.set_xticks(np.arange(data.shape[1]))\n",
    "    ax.set_yticks(np.arange(data.shape[0]))\n",
    "    # ... and label them with the respective list entries.\n",
    "    ax.set_xticklabels(col_labels)\n",
    "    ax.set_yticklabels(row_labels)\n",
    "\n",
    "    # Let the horizontal axes labeling appear on top.\n",
    "    ax.tick_params(top=True, bottom=False,\n",
    "                   labeltop=True, labelbottom=False)\n",
    "\n",
    "    # Rotate the tick labels and set their alignment.\n",
    "    plt.setp(ax.get_xticklabels(), rotation=-30, ha=\"right\",\n",
    "             rotation_mode=\"anchor\")\n",
    "\n",
    "    # Turn spines off and create white grid.\n",
    "    for edge, spine in ax.spines.items():\n",
    "        spine.set_visible(False)\n",
    "\n",
    "    ax.set_xticks(np.arange(data.shape[1]+1)-.5, minor=True)\n",
    "    ax.set_yticks(np.arange(data.shape[0]+1)-.5, minor=True)\n",
    "    ax.grid(which=\"minor\", color=\"w\", linestyle='-', linewidth=3)\n",
    "    ax.tick_params(which=\"minor\", bottom=False, left=False)\n",
    "\n",
    "    return im, cbar\n",
    "\n",
    "\n",
    "def annotate_heatmap(im, data=None, valfmt=\"{x:.2f}\",\n",
    "                     textcolors=[\"black\", \"white\"],\n",
    "                     threshold=None, **textkw):\n",
    "    \"\"\"\n",
    "    A function to annotate a heatmap.\n",
    "    Arguments:\n",
    "        im         : The AxesImage to be labeled.\n",
    "    Optional arguments:\n",
    "        data       : Data used to annotate. If None, the image's data is used.\n",
    "        valfmt     : The format of the annotations inside the heatmap.\n",
    "                     This should either use the string format method, e.g.\n",
    "                     \"$ {x:.2f}\", or be a :class:`matplotlib.ticker.Formatter`.\n",
    "        textcolors : A list or array of two color specifications. The first is\n",
    "                     used for values below a threshold, the second for those\n",
    "                     above.\n",
    "        threshold  : Value in data units according to which the colors from\n",
    "                     textcolors are applied. If None (the default) uses the\n",
    "                     middle of the colormap as separation.\n",
    "    \n",
    "    \"\"\"\n",
    "\n",
    "    if not isinstance(data, (list, np.ndarray)):\n",
    "        data = im.get_array()\n",
    "\n",
    "    # Normalize the threshold to the images color range.\n",
    "    if threshold is not None:\n",
    "        threshold = im.norm(threshold)\n",
    "    else:\n",
    "        threshold = im.norm(data.max())/2.\n",
    "\n",
    "    # Set default alignment to center, but allow it to be\n",
    "    # overwritten by textkw.\n",
    "    kw = dict(horizontalalignment=\"center\",\n",
    "              verticalalignment=\"center\")\n",
    "    kw.update(textkw)\n",
    "\n",
    "    # Get the formatter in case a string is supplied\n",
    "    if isinstance(valfmt, str):\n",
    "        valfmt = matplotlib.ticker.StrMethodFormatter(valfmt)\n",
    "\n",
    "    # Loop over the data and create a `Text` for each \"pixel\".\n",
    "    # Change the text's color depending on the data.\n",
    "    texts = []\n",
    "    for i in range(data.shape[0]):\n",
    "        for j in range(data.shape[1]):\n",
    "            kw.update(color=textcolors[im.norm(data[i, j]) > threshold])\n",
    "            text = im.axes.text(j, i, valfmt(data[i, j], None), **kw)\n",
    "            texts.append(text)\n",
    "\n",
    "    return texts"
   ]
  },
  {
   "cell_type": "markdown",
   "metadata": {},
   "source": [
    "# Correlation Plot (heat map)"
   ]
  },
  {
   "cell_type": "code",
   "execution_count": 6,
   "metadata": {},
   "outputs": [
    {
     "name": "stderr",
     "output_type": "stream",
     "text": [
      "C:\\Users\\Harshit Paliwal\\Anaconda3\\lib\\site-packages\\ipykernel_launcher.py:167: DeprecationWarning: In future, it will be an error for 'np.bool_' scalars to be interpreted as an index\n"
     ]
    },
    {
     "data": {
      "image/png": "[encoded data removed]",
      "text/plain": [
       "<Figure size 720x720 with 2 Axes>"
      ]
     },
     "metadata": {
      "needs_background": "light"
     },
     "output_type": "display_data"
    }
   ],
   "source": [
    "fig, ax = plt.subplots(figsize=(10,10))\n",
    "\n",
    "im, cbar = heatmap(corr_mat, feature_cols, feature_cols, ax=ax,\n",
    "                         cmap=\"RdPu\", cbarlabel=\"Pearson Correlation\")\n",
    "\n",
    "texts = annotate_heatmap(im, valfmt=\"{x:.1f}\")\n",
    "\n",
    "fig.tight_layout()\n",
    "plt.show()"
   ]
  },
  {
   "cell_type": "code",
   "execution_count": 7,
   "metadata": {},
   "outputs": [
    {
     "data": {
      "text/plain": [
       "(103, 47)"
      ]
     },
     "execution_count": 7,
     "metadata": {},
     "output_type": "execute_result"
    }
   ],
   "source": [
    "train_df, test_df = features_df.randomSplit([0.75, 0.25], seed=7)\n",
    "train_df.count(), test_df.count()"
   ]
  },
  {
   "cell_type": "markdown",
   "metadata": {},
   "source": [
    "# K-means"
   ]
  },
  {
   "cell_type": "code",
   "execution_count": 8,
   "metadata": {},
   "outputs": [
    {
     "name": "stdout",
     "output_type": "stream",
     "text": [
      "+------------+-----------+------------+-----------+-------+--------------------+--------------------+\n",
      "|sepal_length|sepal_width|petal_length|petal_width|species|   features_unscaled|            features|\n",
      "+------------+-----------+------------+-----------+-------+--------------------+--------------------+\n",
      "|         4.4|        2.9|         1.4|        0.2| setosa|[4.40000009536743...|[-1.7125590665378...|\n",
      "|         4.4|        3.0|         1.3|        0.2| setosa|[4.40000009536743...|[-1.7125590665378...|\n",
      "|         4.4|        3.2|         1.3|        0.2| setosa|[4.40000009536743...|[-1.7125590665378...|\n",
      "|         4.5|        2.3|         1.3|        0.3| setosa|[4.5,2.2999999523...|[-1.5942536154373...|\n",
      "|         4.6|        3.1|         1.5|        0.2| setosa|[4.59999990463256...|[-1.4759481643368...|\n",
      "+------------+-----------+------------+-----------+-------+--------------------+--------------------+\n",
      "only showing top 5 rows\n",
      "\n",
      "+------------+-----------+------------+-----------+-------+--------------------+--------------------+\n",
      "|sepal_length|sepal_width|petal_length|petal_width|species|   features_unscaled|            features|\n",
      "+------------+-----------+------------+-----------+-------+--------------------+--------------------+\n",
      "|         4.3|        3.0|         1.1|        0.1| setosa|[4.30000019073486...|[-1.8308645176382...|\n",
      "|         4.6|        3.6|         1.0|        0.2| setosa|[4.59999990463256...|[-1.4759481643368...|\n",
      "|         4.7|        3.2|         1.3|        0.2| setosa|[4.69999980926513...|[-1.3576427132364...|\n",
      "|         4.8|        3.4|         1.6|        0.2| setosa|[4.80000019073486...|[-1.2393366980110...|\n",
      "|         4.8|        3.4|         1.9|        0.2| setosa|[4.80000019073486...|[-1.2393366980110...|\n",
      "+------------+-----------+------------+-----------+-------+--------------------+--------------------+\n",
      "only showing top 5 rows\n",
      "\n"
     ]
    }
   ],
   "source": [
    "\n",
    "from pyspark.ml.feature import StandardScaler\n",
    "\n",
    "scaler = StandardScaler(inputCol=\"features_unscaled\", outputCol=\"features\", withStd=True, withMean=True)\n",
    "scalerModel = scaler.fit(train_df)\n",
    "\n",
    "train_df = scalerModel.transform(train_df)\n",
    "test_df = scalerModel.transform(test_df)\n",
    "\n",
    "train_df.show(5)      \n",
    "test_df.show(5)"
   ]
  },
  {
   "cell_type": "markdown",
   "metadata": {},
   "source": [
    "# WSSE for predicting K value"
   ]
  },
  {
   "cell_type": "code",
   "execution_count": 9,
   "metadata": {},
   "outputs": [
    {
     "name": "stdout",
     "output_type": "stream",
     "text": [
      "Trying k from 2 to 7 with 53 samples...\n",
      "\n",
      "Training for cluster size 2 \n",
      "......................WSSE = 57.83606823612324 \n",
      "Training for cluster size 3 \n",
      "......................WSSE = 51.23293215218001 \n",
      "Training for cluster size 4 \n",
      "......................WSSE = 40.125315215189026 \n",
      "Training for cluster size 5 \n",
      "......................WSSE = 39.89589200062628 \n",
      "Training for cluster size 6 \n",
      "......................WSSE = 34.96720595739931 \n",
      "Training for cluster size 7 \n",
      "......................WSSE = 30.779303348997672 \n"
     ]
    },
    {
     "data": {
      "image/png": "[encoded data removed]",
      "text/plain": [
       "<Figure size 1080x720 with 1 Axes>"
      ]
     },
     "metadata": {
      "needs_background": "light"
     },
     "output_type": "display_data"
    }
   ],
   "source": [
    "# Only need to run this once to find value(s) to try for k\n",
    "create_elbow_plot = True # Set to False if already know value for k\n",
    "\n",
    "\n",
    "if create_elbow_plot == True:\n",
    "    # lower the sample fraction to decrease fit time (with the risk of worse results)\n",
    "    sampled = train_df.sample(.5)\n",
    "\n",
    "    k_attempts = range(2,8)\n",
    "    print('Trying k from {} to {} with {} samples...\\n'.format(list(k_attempts)[0],\n",
    "                                                               list(k_attempts)[-1],\n",
    "                                                               sampled.count()))\n",
    "\n",
    "    wsseList = elbow(sampled, k_attempts)\n",
    "    elbow_plot(wsseList, k_attempts)\n",
    "    \n",
    "    \n",
    "\n"
   ]
  },
  {
   "cell_type": "markdown",
   "metadata": {},
   "source": [
    "# Silhouete score"
   ]
  },
  {
   "cell_type": "code",
   "execution_count": 10,
   "metadata": {},
   "outputs": [
    {
     "name": "stdout",
     "output_type": "stream",
     "text": [
      "Silhouette with squared euclidean distance = 0.6333037424601361\n",
      "Cluster Centers: \n",
      "[-0.04952099 -0.84728469  0.34632473  0.31347547]\n",
      "[-0.97643565  0.76750836 -1.25025922 -1.22223739]\n",
      "[1.15265369 0.06327073 1.02774895 1.03215327]\n"
     ]
    }
   ],
   "source": [
    "kmeans = KM(k = 3 , seed = 7)\n",
    "model = kmeans.fit(train_df)\n",
    "transformed = model.transform(train_df)\n",
    "featuresAndPrediction = transformed.select(\"features\", \"prediction\")\n",
    "\n",
    "# Evaluate clustering by computing Silhouette score\n",
    "evaluator = ClusteringEvaluator()\n",
    "\n",
    "silhouette = evaluator.evaluate(transformed)\n",
    "print(\"Silhouette with squared euclidean distance = \" + str(silhouette))\n",
    "\n",
    "# Shows the result.\n",
    "centers = model.clusterCenters()\n",
    "print(\"Cluster Centers: \")\n",
    "for center in centers:\n",
    "    print(center)"
   ]
  },
  {
   "cell_type": "markdown",
   "metadata": {},
   "source": [
    "# Bisecting k-means"
   ]
  },
  {
   "cell_type": "code",
   "execution_count": 11,
   "metadata": {},
   "outputs": [
    {
     "name": "stdout",
     "output_type": "stream",
     "text": [
      "Within Set Sum of Squared Errors = 407.9999999999996\n",
      "Cluster Centers: \n",
      "[ 3.40612112e-15  2.91891646e-15 -5.34631670e-16  2.67315835e-16]\n"
     ]
    }
   ],
   "source": [
    "from pyspark.ml.clustering import BisectingKMeans\n",
    "\n",
    "# Trains a bisecting k-means model.\n",
    "bkm = BisectingKMeans().setK(3).setSeed(7)\n",
    "model = bkm.fit(train_df)\n",
    "\n",
    "# Evaluate clustering.\n",
    "cost = model.computeCost(train_df)\n",
    "print(\"Within Set Sum of Squared Errors = \" + str(cost))\n",
    "\n",
    "# Shows the result.\n",
    "print(\"Cluster Centers: \")\n",
    "centers = model.clusterCenters()\n",
    "for center in centers:\n",
    "    print(center)"
   ]
  },
  {
   "cell_type": "markdown",
   "metadata": {},
   "source": [
    "# Gaussian Mixture Model (GMM)"
   ]
  },
  {
   "cell_type": "code",
   "execution_count": 12,
   "metadata": {},
   "outputs": [
    {
     "name": "stdout",
     "output_type": "stream",
     "text": [
      "Gaussians shown as a DataFrame: \n",
      "+-------------------------------------------------------------------------------------+-------------------------------------------------------------------------------------------------------------------------------------------------------------------------------------------------------------------------------------------------------------------------------------------------------------------------------------------------------------------+\n",
      "|mean                                                                                 |cov                                                                                                                                                                                                                                                                                                                                                                |\n",
      "+-------------------------------------------------------------------------------------+-------------------------------------------------------------------------------------------------------------------------------------------------------------------------------------------------------------------------------------------------------------------------------------------------------------------------------------------------------------------+\n",
      "|[-0.952573366284109,0.8153506832038284,-1.2506737496162597,-1.2119999227054343]      |0.18177324764456212   0.3036590189368769    0.006300688259313381  0.009715502009621782  \n",
      "0.3036590189368769    0.8369189017238808    0.017414481459727394  0.03450536572569749   \n",
      "0.006300688259313381  0.017414481459727394  0.006797896227227769  0.003681293154136955  \n",
      "0.009715502009621782  0.03450536572569749   0.003681293154136955  0.017428239769441828  |\n",
      "|[0.5785316900984464,-0.4286765083913724,0.6871459533640877,0.6816367979451879]       |0.6460778253221025   0.3589172891796704   0.34311191826037246  0.28802406751061416  \n",
      "0.3589172891796704   0.6502398003673472   0.19336326984701163  0.23593619425715245  \n",
      "0.34311191826037246  0.19336326984701163  0.23809165061926157  0.2207983363947531   \n",
      "0.28802406751061416  0.23593619425715245  0.2207983363947531   0.2902205013855228                   |\n",
      "|[-0.47086736187351075,-0.10967756375602074,-0.05989192354197735,-0.17936046520865814]|0.4278949243318225    -0.13113436152280308  0.5160632644797519    0.48349098052075845  \n",
      "-0.13113436152280308  0.04154000071056771   -0.15921199484142234  -0.1494124270498985  \n",
      "0.5160632644797519    -0.15921199484142234  0.713783801844234     0.6992123640626304   \n",
      "0.48349098052075845   -0.1494124270498985   0.6992123640626304    0.6957855529818303       |\n",
      "+-------------------------------------------------------------------------------------+-------------------------------------------------------------------------------------------------------------------------------------------------------------------------------------------------------------------------------------------------------------------------------------------------------------------------------------------------------------------+\n",
      "\n"
     ]
    }
   ],
   "source": [
    "from pyspark.ml.clustering import GaussianMixture\n",
    "\n",
    "gmm = GaussianMixture().setK(3).setSeed(7)\n",
    "model = gmm.fit(train_df)\n",
    "\n",
    "print(\"Gaussians shown as a DataFrame: \")\n",
    "model.gaussiansDF.show(truncate=False)"
   ]
  },
  {
   "cell_type": "code",
   "execution_count": null,
   "metadata": {},
   "outputs": [],
   "source": []
  }
 ],
 "metadata": {
  "kernelspec": {
   "display_name": "Python 3",
   "language": "python",
   "name": "python3"
  },
  "language_info": {
   "codemirror_mode": {
    "name": "ipython",
    "version": 3
   },
   "file_extension": ".py",
   "mimetype": "text/x-python",
   "name": "python",
   "nbconvert_exporter": "python",
   "pygments_lexer": "ipython3",
   "version": "3.7.5"
  }
 },
 "nbformat": 4,
 "nbformat_minor": 2
}
